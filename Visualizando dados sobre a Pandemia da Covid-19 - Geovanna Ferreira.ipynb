{
 "cells": [
  {
   "attachments": {
    "image.png": {
     "image/png": "[encoded data removed]"
    }
   },
   "cell_type": "markdown",
   "id": "93717719",
   "metadata": {},
   "source": [
    "![image.png](attachment:image.png)"
   ]
  },
  {
   "cell_type": "markdown",
   "id": "50641a8a",
   "metadata": {
    "id": "50641a8a"
   },
   "source": [
    "# <font color=white|cyan>Visualizando dados sobre a Pandemia da Covid-19</font> \n",
    "\n",
    "Neste artigo apresentarei várias formas de visualização de dados acerca da Pandemia da Covid-19 no Brasil. Utilizarei algumas bibliotecas diferentes e ensinarei a vocês como utilizá-las."
   ]
  },
  {
   "cell_type": "markdown",
   "id": "8bab9c72",
   "metadata": {
    "id": "8bab9c72"
   },
   "source": [
    "# Importando os dados, bibliotecas, etc.\n",
    "\n",
    "Antes de tudo precisamos importar as bibliotecas e os dados que vamos usar. Mas o que são bibliotecas? Dados? Bom, podemos entender bibliotecas como conjuntos de módulos e funções - já prontas - que nos auxiliam na construção do nosso código. Imagine que complicado seria se a cada linha do nosso código tivessémos que criar funções para realizar cada tarefa? Trabalhoso demais, né? É ai que as bibliotecas entram para nos auxiliar, elas nos apresentam uma gama de funções para que nosso trabalho seja mais rápido. É claro que você pode criar novas funções que achar interessante, as vezes queremos fazer algo muito específico e criamos nossas próprias funções, mas se fossemos fazer isso a cada linha de código, além dele ficar gigante demais, levaria muito mais tempo para realizar uma tarefa que pode ser muito mais rápida com o uso das bibliotecas.\n",
    "Já os dados representam um conjunto de informações sobre algo, por exemplo, pense em uma planilha com todos os nomes dos funcionários públicos do Estado de São Paulo, com informações como salário, idade, data de nascimento e endereço. Isso é um conjunto de dados. \n",
    "É por meio das bibliotecas que conseguimos fazer o tratamento dos dados (como os dos funcionários do Estado de São Paulo) para trabalhar com a informação do jeito que quisermos. Seja fazendo uma visualização dos funcionários por meio de gráfico, que nos possibilitaria saber qual a proporção de funcionários em cada bairro, qual a proporção de idades, quais funcionários estão perto de se aposetar, ou seja, uma análise geral do seu perfil, por exemplo.\n",
    "Dito tudo isso, vamos importar as bibliotecas e os dados que usaremos."
   ]
  },
  {
   "cell_type": "code",
   "execution_count": 152,
   "id": "baaf80d1",
   "metadata": {},
   "outputs": [],
   "source": [
    "# Importando as bibliotecas:\n",
    "import matplotlib.pyplot as plt # biblioteca utilizada para a visualização dos dados e também para a elaboração de gráficos.\n",
    "import seaborn as sns # biblioteca usada para a plotagem dos mais variados tipos de gráficos. Ela é muito utilizada na visualização de séries temporais.\n",
    "import plotly.express as px # faz parte da biblioteca Plotly e é utilizada para plotagem de figuras e gráficos.\n",
    "import pandas as pd # biblioteca utilizada para manipulação e análise de dados.\n",
    "\n",
    "# Nomeando os dados sobre o número de óbitos:\n",
    "obitos = pd.read_csv('obito_cartorio.csv', na_values ='n/a', usecols = [0,1,3,10]) # aqui utilizei essa função do pandas que lê um arquivo csv e tranforma em DataFrame para ser utilizado no código. "
   ]
  },
  {
   "cell_type": "markdown",
   "id": "5957a830",
   "metadata": {},
   "source": [
    "A base de dados foi retirada do site Brasi.io. Pode ser encontrado no seguinte link: https://brasil.io/dataset/covid19/files/"
   ]
  },
  {
   "cell_type": "code",
   "execution_count": 153,
   "id": "a6f92398",
   "metadata": {},
   "outputs": [
    {
     "data": {
      "text/html": [
       "<div>\n",
       "<style scoped>\n",
       "    .dataframe tbody tr th:only-of-type {\n",
       "        vertical-align: middle;\n",
       "    }\n",
       "\n",
       "    .dataframe tbody tr th {\n",
       "        vertical-align: top;\n",
       "    }\n",
       "\n",
       "    .dataframe thead th {\n",
       "        text-align: right;\n",
       "    }\n",
       "</style>\n",
       "<table border=\"1\" class=\"dataframe\">\n",
       "  <thead>\n",
       "    <tr style=\"text-align: right;\">\n",
       "      <th></th>\n",
       "      <th>date</th>\n",
       "      <th>state</th>\n",
       "      <th>epidemiological_week_2020</th>\n",
       "      <th>deaths_covid19</th>\n",
       "    </tr>\n",
       "  </thead>\n",
       "  <tbody>\n",
       "    <tr>\n",
       "      <th>0</th>\n",
       "      <td>2020-01-01</td>\n",
       "      <td>AC</td>\n",
       "      <td>1</td>\n",
       "      <td>0</td>\n",
       "    </tr>\n",
       "    <tr>\n",
       "      <th>1</th>\n",
       "      <td>2020-01-02</td>\n",
       "      <td>AC</td>\n",
       "      <td>1</td>\n",
       "      <td>0</td>\n",
       "    </tr>\n",
       "    <tr>\n",
       "      <th>2</th>\n",
       "      <td>2020-01-03</td>\n",
       "      <td>AC</td>\n",
       "      <td>1</td>\n",
       "      <td>0</td>\n",
       "    </tr>\n",
       "    <tr>\n",
       "      <th>3</th>\n",
       "      <td>2020-01-04</td>\n",
       "      <td>AC</td>\n",
       "      <td>1</td>\n",
       "      <td>0</td>\n",
       "    </tr>\n",
       "    <tr>\n",
       "      <th>4</th>\n",
       "      <td>2020-01-05</td>\n",
       "      <td>AC</td>\n",
       "      <td>2</td>\n",
       "      <td>0</td>\n",
       "    </tr>\n",
       "    <tr>\n",
       "      <th>...</th>\n",
       "      <td>...</td>\n",
       "      <td>...</td>\n",
       "      <td>...</td>\n",
       "      <td>...</td>\n",
       "    </tr>\n",
       "    <tr>\n",
       "      <th>9877</th>\n",
       "      <td>2020-12-27</td>\n",
       "      <td>TO</td>\n",
       "      <td>53</td>\n",
       "      <td>864</td>\n",
       "    </tr>\n",
       "    <tr>\n",
       "      <th>9878</th>\n",
       "      <td>2020-12-28</td>\n",
       "      <td>TO</td>\n",
       "      <td>53</td>\n",
       "      <td>865</td>\n",
       "    </tr>\n",
       "    <tr>\n",
       "      <th>9879</th>\n",
       "      <td>2020-12-29</td>\n",
       "      <td>TO</td>\n",
       "      <td>53</td>\n",
       "      <td>865</td>\n",
       "    </tr>\n",
       "    <tr>\n",
       "      <th>9880</th>\n",
       "      <td>2020-12-30</td>\n",
       "      <td>TO</td>\n",
       "      <td>53</td>\n",
       "      <td>865</td>\n",
       "    </tr>\n",
       "    <tr>\n",
       "      <th>9881</th>\n",
       "      <td>2020-12-31</td>\n",
       "      <td>TO</td>\n",
       "      <td>53</td>\n",
       "      <td>865</td>\n",
       "    </tr>\n",
       "  </tbody>\n",
       "</table>\n",
       "<p>9882 rows × 4 columns</p>\n",
       "</div>"
      ],
      "text/plain": [
       "            date state  epidemiological_week_2020  deaths_covid19\n",
       "0     2020-01-01    AC                          1               0\n",
       "1     2020-01-02    AC                          1               0\n",
       "2     2020-01-03    AC                          1               0\n",
       "3     2020-01-04    AC                          1               0\n",
       "4     2020-01-05    AC                          2               0\n",
       "...          ...   ...                        ...             ...\n",
       "9877  2020-12-27    TO                         53             864\n",
       "9878  2020-12-28    TO                         53             865\n",
       "9879  2020-12-29    TO                         53             865\n",
       "9880  2020-12-30    TO                         53             865\n",
       "9881  2020-12-31    TO                         53             865\n",
       "\n",
       "[9882 rows x 4 columns]"
      ]
     },
     "execution_count": 153,
     "metadata": {},
     "output_type": "execute_result"
    }
   ],
   "source": [
    "# Vamos visualizar o DataFrame para ver quais informações temos nele\n",
    "obitos"
   ]
  },
  {
   "cell_type": "code",
   "execution_count": 154,
   "id": "c293d7ef",
   "metadata": {},
   "outputs": [
    {
     "data": {
      "text/plain": [
       "0       False\n",
       "1       False\n",
       "2       False\n",
       "3       False\n",
       "4       False\n",
       "        ...  \n",
       "9877    False\n",
       "9878    False\n",
       "9879    False\n",
       "9880    False\n",
       "9881    False\n",
       "Length: 9882, dtype: bool"
      ]
     },
     "execution_count": 154,
     "metadata": {},
     "output_type": "execute_result"
    }
   ],
   "source": [
    "# Agora vamos ver se há dados duplicados, por exemplo se há algum dia que está repetido:\n",
    "\n",
    "duplicados_obitos = obitos.duplicated()\n",
    "duplicados_obitos "
   ]
  },
  {
   "cell_type": "markdown",
   "id": "e532451e",
   "metadata": {},
   "source": [
    "Como não apareceu \"True\" em nenhuma linha, podemos dizer que não há dados duplicados."
   ]
  },
  {
   "cell_type": "code",
   "execution_count": 155,
   "id": "06a559f4",
   "metadata": {},
   "outputs": [
    {
     "name": "stdout",
     "output_type": "stream",
     "text": [
      "<class 'pandas.core.frame.DataFrame'>\n",
      "RangeIndex: 9882 entries, 0 to 9881\n",
      "Data columns (total 4 columns):\n",
      " #   Column                     Non-Null Count  Dtype \n",
      "---  ------                     --------------  ----- \n",
      " 0   date                       9882 non-null   object\n",
      " 1   state                      9882 non-null   object\n",
      " 2   epidemiological_week_2020  9882 non-null   int64 \n",
      " 3   deaths_covid19             9882 non-null   int64 \n",
      "dtypes: int64(2), object(2)\n",
      "memory usage: 308.9+ KB\n"
     ]
    }
   ],
   "source": [
    "# Vamos visualizar as informações do DataFrame:\n",
    "\n",
    "obitos.info()"
   ]
  },
  {
   "cell_type": "markdown",
   "id": "6f5f7311",
   "metadata": {},
   "source": [
    "Pudemos ver que há 4 colunas (date, state, epidemiological_week_2020 e deaths_covid19) 9882 linhas."
   ]
  },
  {
   "cell_type": "code",
   "execution_count": 156,
   "id": "ecc32eb7",
   "metadata": {},
   "outputs": [
    {
     "data": {
      "text/plain": [
       "<bound method NDFrame._add_numeric_operations.<locals>.sum of        date  state  epidemiological_week_2020  deaths_covid19\n",
       "0     False  False                      False           False\n",
       "1     False  False                      False           False\n",
       "2     False  False                      False           False\n",
       "3     False  False                      False           False\n",
       "4     False  False                      False           False\n",
       "...     ...    ...                        ...             ...\n",
       "9877  False  False                      False           False\n",
       "9878  False  False                      False           False\n",
       "9879  False  False                      False           False\n",
       "9880  False  False                      False           False\n",
       "9881  False  False                      False           False\n",
       "\n",
       "[9882 rows x 4 columns]>"
      ]
     },
     "execution_count": 156,
     "metadata": {},
     "output_type": "execute_result"
    }
   ],
   "source": [
    "# Vamos ver se há dados nulos (valor desconhecido ou ausente) no DataFrame e, caso tenha, vamos excluir:\n",
    "obitos.isna().sum"
   ]
  },
  {
   "cell_type": "markdown",
   "id": "f90ef84c",
   "metadata": {
    "id": "f90ef84c"
   },
   "source": [
    "Como pudemos ver, não aparece \"True\" nas linhas, isso que dizer que não há valores nulos."
   ]
  },
  {
   "cell_type": "code",
   "execution_count": 157,
   "id": "223a744b",
   "metadata": {},
   "outputs": [],
   "source": [
    "# Para melhor visualização e para o nosso DataFrame ficar mais apresentável vou renomear o noem das colunas:\n",
    "obitos = obitos.rename(columns={'date':'Data', 'state':'UF', 'epidemiological_week_2020':'Semana Epdemiológica', 'deaths_covid19':'Mortes por Covid-19'})"
   ]
  },
  {
   "cell_type": "code",
   "execution_count": 158,
   "id": "0c5f15d8",
   "metadata": {},
   "outputs": [
    {
     "data": {
      "text/html": [
       "<div>\n",
       "<style scoped>\n",
       "    .dataframe tbody tr th:only-of-type {\n",
       "        vertical-align: middle;\n",
       "    }\n",
       "\n",
       "    .dataframe tbody tr th {\n",
       "        vertical-align: top;\n",
       "    }\n",
       "\n",
       "    .dataframe thead th {\n",
       "        text-align: right;\n",
       "    }\n",
       "</style>\n",
       "<table border=\"1\" class=\"dataframe\">\n",
       "  <thead>\n",
       "    <tr style=\"text-align: right;\">\n",
       "      <th></th>\n",
       "      <th>Data</th>\n",
       "      <th>UF</th>\n",
       "      <th>Semana Epdemiológica</th>\n",
       "      <th>Mortes por Covid-19</th>\n",
       "    </tr>\n",
       "  </thead>\n",
       "  <tbody>\n",
       "    <tr>\n",
       "      <th>0</th>\n",
       "      <td>2020-01-01</td>\n",
       "      <td>AC</td>\n",
       "      <td>1</td>\n",
       "      <td>0</td>\n",
       "    </tr>\n",
       "    <tr>\n",
       "      <th>1</th>\n",
       "      <td>2020-01-02</td>\n",
       "      <td>AC</td>\n",
       "      <td>1</td>\n",
       "      <td>0</td>\n",
       "    </tr>\n",
       "    <tr>\n",
       "      <th>2</th>\n",
       "      <td>2020-01-03</td>\n",
       "      <td>AC</td>\n",
       "      <td>1</td>\n",
       "      <td>0</td>\n",
       "    </tr>\n",
       "    <tr>\n",
       "      <th>3</th>\n",
       "      <td>2020-01-04</td>\n",
       "      <td>AC</td>\n",
       "      <td>1</td>\n",
       "      <td>0</td>\n",
       "    </tr>\n",
       "    <tr>\n",
       "      <th>4</th>\n",
       "      <td>2020-01-05</td>\n",
       "      <td>AC</td>\n",
       "      <td>2</td>\n",
       "      <td>0</td>\n",
       "    </tr>\n",
       "    <tr>\n",
       "      <th>...</th>\n",
       "      <td>...</td>\n",
       "      <td>...</td>\n",
       "      <td>...</td>\n",
       "      <td>...</td>\n",
       "    </tr>\n",
       "    <tr>\n",
       "      <th>9877</th>\n",
       "      <td>2020-12-27</td>\n",
       "      <td>TO</td>\n",
       "      <td>53</td>\n",
       "      <td>864</td>\n",
       "    </tr>\n",
       "    <tr>\n",
       "      <th>9878</th>\n",
       "      <td>2020-12-28</td>\n",
       "      <td>TO</td>\n",
       "      <td>53</td>\n",
       "      <td>865</td>\n",
       "    </tr>\n",
       "    <tr>\n",
       "      <th>9879</th>\n",
       "      <td>2020-12-29</td>\n",
       "      <td>TO</td>\n",
       "      <td>53</td>\n",
       "      <td>865</td>\n",
       "    </tr>\n",
       "    <tr>\n",
       "      <th>9880</th>\n",
       "      <td>2020-12-30</td>\n",
       "      <td>TO</td>\n",
       "      <td>53</td>\n",
       "      <td>865</td>\n",
       "    </tr>\n",
       "    <tr>\n",
       "      <th>9881</th>\n",
       "      <td>2020-12-31</td>\n",
       "      <td>TO</td>\n",
       "      <td>53</td>\n",
       "      <td>865</td>\n",
       "    </tr>\n",
       "  </tbody>\n",
       "</table>\n",
       "<p>9882 rows × 4 columns</p>\n",
       "</div>"
      ],
      "text/plain": [
       "            Data  UF  Semana Epdemiológica  Mortes por Covid-19\n",
       "0     2020-01-01  AC                     1                    0\n",
       "1     2020-01-02  AC                     1                    0\n",
       "2     2020-01-03  AC                     1                    0\n",
       "3     2020-01-04  AC                     1                    0\n",
       "4     2020-01-05  AC                     2                    0\n",
       "...          ...  ..                   ...                  ...\n",
       "9877  2020-12-27  TO                    53                  864\n",
       "9878  2020-12-28  TO                    53                  865\n",
       "9879  2020-12-29  TO                    53                  865\n",
       "9880  2020-12-30  TO                    53                  865\n",
       "9881  2020-12-31  TO                    53                  865\n",
       "\n",
       "[9882 rows x 4 columns]"
      ]
     },
     "execution_count": 158,
     "metadata": {},
     "output_type": "execute_result"
    }
   ],
   "source": [
    "# Vamos visualizar a mudança:\n",
    "obitos"
   ]
  },
  {
   "cell_type": "markdown",
   "id": "6e5134a3",
   "metadata": {},
   "source": [
    "# Começando a visualização dos dados"
   ]
  },
  {
   "cell_type": "markdown",
   "id": "0afee72d",
   "metadata": {},
   "source": [
    "Vamos começar criando um gráfico que mostre as mortes por Covid-19 do nosso conjunto de dados, para termos uma ideia de como foi o seu crescimento ao longo dos meses."
   ]
  },
  {
   "cell_type": "code",
   "execution_count": 159,
   "id": "2d973a7a",
   "metadata": {
    "scrolled": false
   },
   "outputs": [
    {
     "data": {
      "image/png": "[encoded data removed]",
      "text/plain": [
       "<Figure size 864x576 with 1 Axes>"
      ]
     },
     "metadata": {
      "needs_background": "light"
     },
     "output_type": "display_data"
    }
   ],
   "source": [
    "# Criando uma figura, axes e alterando o tamanho:\n",
    "fig, ax = plt.subplots(figsize=(12,8))\n",
    "\n",
    "# Criando o gráfico de linha:\n",
    "obitos.groupby('Data')['Mortes por Covid-19'].sum().sort_values(ascending=True).plot(kind='line')\n",
    "\n",
    "# Adicionando título:\n",
    "ax.set_title('Mortes de Covid-19 por UF', fontdict={'fontsize':20})\n",
    "\n",
    "# Mudando e nome e tamanho dos dados do eixo x:\n",
    "ax.set_xlabel('Data', fontdict={'fontsize':15})\n",
    "\n",
    "# Vamos remover as legendas e os valores do eixo y:\n",
    "ax.tick_params(axis='y', labelleft=False, left=None)    \n",
    "\n",
    "# Otimizando o espaço da figura:\n",
    "fig.tight_layout()"
   ]
  },
  {
   "cell_type": "markdown",
   "id": "b378fc6b",
   "metadata": {},
   "source": [
    "Agora vamos criar um gráifoc de barras que nos mostre como se deu a distribuição de mortes pelos estados."
   ]
  },
  {
   "cell_type": "code",
   "execution_count": 160,
   "id": "4779db75",
   "metadata": {},
   "outputs": [
    {
     "data": {
      "image/png": "[encoded data removed]",
      "text/plain": [
       "<Figure size 864x576 with 1 Axes>"
      ]
     },
     "metadata": {
      "needs_background": "light"
     },
     "output_type": "display_data"
    }
   ],
   "source": [
    "# Criando uma figura, axes e alterando o tamanho:\n",
    "fig, ax = plt.subplots(figsize=(12,8))\n",
    "\n",
    "# Criando o gráfico de barras:\n",
    "obitos.groupby('UF')['Mortes por Covid-19'].sum().sort_values(ascending=False).plot(kind='bar')\n",
    "\n",
    "# Adicionando título:\n",
    "ax.set_title(\"Mortes de Covid-19 por UF\", fontdict={'fontsize':20})\n",
    "\n",
    "# Mudando e nome e tamanho dos dados do eixo x:\n",
    "ax.set_xlabel('UF', fontdict={'fontsize':20})\n",
    "\n",
    "# Vamos remover as legendas e os valores do eixo y:\n",
    "ax.tick_params(axis='y', labelleft=False, left=None)                  \n",
    "\n",
    "# Otimizando o espaço da figura:\n",
    "fig.tight_layout()"
   ]
  },
  {
   "cell_type": "markdown",
   "id": "b8beea98",
   "metadata": {},
   "source": [
    "Ao olhar o DataFrame lá no começo, pudemos ver que há uma coluna com a a indicação da semana epdemiológica. Vamos criar um gráfico de barras que nos mostre isso."
   ]
  },
  {
   "cell_type": "code",
   "execution_count": 161,
   "id": "5ea891a5",
   "metadata": {
    "scrolled": false
   },
   "outputs": [
    {
     "data": {
      "image/png": "[encoded data removed]",
      "text/plain": [
       "<Figure size 864x576 with 1 Axes>"
      ]
     },
     "metadata": {
      "needs_background": "light"
     },
     "output_type": "display_data"
    }
   ],
   "source": [
    "# Criando uma figura, axes e alterando o tamanho:\n",
    "fig, ax = plt.subplots(figsize=(12,8))\n",
    "\n",
    "# Criando o gráfico de barras:\n",
    "obitos.groupby('Semana Epdemiológica')['Mortes por Covid-19'].sum().sort_values(ascending=True).plot(kind='bar')\n",
    "\n",
    "# Adicionando título:\n",
    "ax.set_title('Mortes de Covid-19 por UF', fontdict={'fontsize':20})\n",
    "\n",
    "# Mudando e nome e tamanho dos dados do eixo x:\n",
    "ax.set_xlabel('Semana Epdemiológica', fontdict={'fontsize':15})\n",
    "\n",
    "# Vamos remover as legendas e os valores do eixo y:\n",
    "ax.tick_params(axis='y', labelleft=False, left=None)                  \n",
    "\n",
    "# Otimizando o espaço da figura:\n",
    "fig.tight_layout()"
   ]
  },
  {
   "cell_type": "markdown",
   "id": "cd8b9a17",
   "metadata": {},
   "source": [
    "Agora já conseguimos ter uma visualização geral de como as mortes se deram em cada estado, no Brasil inteiro e por semana epdemiológica. Mas e se quiséssemos tr uma noção maior da proporção de cada estado no número de mortes, como faríamos? Podemos criar um gráfico de pizza que represente isso."
   ]
  },
  {
   "cell_type": "code",
   "execution_count": 162,
   "id": "9c035edb",
   "metadata": {},
   "outputs": [],
   "source": [
    "# Vamos agrupar os números de óbitos por estado\n",
    "obitos_pizza = obitos.groupby('UF')['Mortes por Covid-19'].sum().sort_values(ascending=False)"
   ]
  },
  {
   "cell_type": "code",
   "execution_count": 163,
   "id": "909746af",
   "metadata": {
    "scrolled": false
   },
   "outputs": [],
   "source": [
    "# Vamos resetar index para que a coluna UF não seja index.\n",
    "obitos_pizza = obitos_pizza.reset_index()"
   ]
  },
  {
   "cell_type": "code",
   "execution_count": 164,
   "id": "5ac2d15a",
   "metadata": {
    "scrolled": false
   },
   "outputs": [
    {
     "data": {
      "image/png": "[encoded data removed]",
      "text/plain": [
       "<Figure size 1440x3600 with 1 Axes>"
      ]
     },
     "metadata": {},
     "output_type": "display_data"
    }
   ],
   "source": [
    "# Criando um gráfico de pizza\n",
    "fig = plt.figure(figsize=(20,50))\n",
    "plt.pie(obitos_pizza['Mortes por Covid-19'], labels=obitos_pizza['UF'])\n",
    "plt.show()"
   ]
  },
  {
   "cell_type": "markdown",
   "id": "25124d27",
   "metadata": {},
   "source": [
    "Bom, o gráfico acima nos mostreou a distribuição por estado, mas qual a porcetagem de cada estado? É possível ter uma visualização assim? Sim, é póssível. Veremos abaixo."
   ]
  },
  {
   "cell_type": "code",
   "execution_count": 165,
   "id": "d265d31b",
   "metadata": {},
   "outputs": [
    {
     "data": {
      "application/vnd.plotly.v1+json": {
       "config": {
        "plotlyServerURL": "https://plot.ly"
       },
       "data": [
        {
         "domain": {
          "x": [
           0,
           1
          ],
          "y": [
           0,
           1
          ]
         },
         "hovertemplate": "label=%{label}<br>value=%{value}<extra></extra>",
         "labels": [
          "SP",
          "RJ",
          "CE",
          "MG",
          "BA",
          "PE",
          "PR",
          "PA",
          "RS",
          "GO",
          "ES",
          "DF",
          "SC",
          "MA",
          "AM",
          "PB",
          "AL",
          "MT",
          "RN",
          "SE",
          "MS",
          "PI",
          "RO",
          "AP",
          "AC",
          "RR",
          "TO"
         ],
         "legendgroup": "",
         "name": "",
         "showlegend": true,
         "type": "pie",
         "values": [
          7608909,
          4145484,
          1840282,
          1607090,
          1225750,
          1198557,
          1046258,
          1029211,
          946479,
          935456,
          719106,
          540671,
          529451,
          507554,
          499497,
          468824,
          409503,
          403138,
          353739,
          308070,
          232632,
          228579,
          196498,
          140834,
          128272,
          114905,
          113938
         ]
        }
       ],
       "layout": {
        "height": 800,
        "legend": {
         "tracegroupgap": 0
        },
        "margin": {
         "t": 60
        },
        "template": {
         "data": {
          "bar": [
           {
            "error_x": {
             "color": "#2a3f5f"
            },
            "error_y": {
             "color": "#2a3f5f"
            },
            "marker": {
             "line": {
              "color": "#E5ECF6",
              "width": 0.5
             },
             "pattern": {
              "fillmode": "overlay",
              "size": 10,
              "solidity": 0.2
             }
            },
            "type": "bar"
           }
          ],
          "barpolar": [
           {
            "marker": {
             "line": {
              "color": "#E5ECF6",
              "width": 0.5
             },
             "pattern": {
              "fillmode": "overlay",
              "size": 10,
              "solidity": 0.2
             }
            },
            "type": "barpolar"
           }
          ],
          "carpet": [
           {
            "aaxis": {
             "endlinecolor": "#2a3f5f",
             "gridcolor": "white",
             "linecolor": "white",
             "minorgridcolor": "white",
             "startlinecolor": "#2a3f5f"
            },
            "baxis": {
             "endlinecolor": "#2a3f5f",
             "gridcolor": "white",
             "linecolor": "white",
             "minorgridcolor": "white",
             "startlinecolor": "#2a3f5f"
            },
            "type": "carpet"
           }
          ],
          "choropleth": [
           {
            "colorbar": {
             "outlinewidth": 0,
             "ticks": ""
            },
            "type": "choropleth"
           }
          ],
          "contour": [
           {
            "colorbar": {
             "outlinewidth": 0,
             "ticks": ""
            },
            "colorscale": [
             [
              0,
              "#0d0887"
             ],
             [
              0.1111111111111111,
              "#46039f"
             ],
             [
              0.2222222222222222,
              "#7201a8"
             ],
             [
              0.3333333333333333,
              "#9c179e"
             ],
             [
              0.4444444444444444,
              "#bd3786"
             ],
             [
              0.5555555555555556,
              "#d8576b"
             ],
             [
              0.6666666666666666,
              "#ed7953"
             ],
             [
              0.7777777777777778,
              "#fb9f3a"
             ],
             [
              0.8888888888888888,
              "#fdca26"
             ],
             [
              1,
              "#f0f921"
             ]
            ],
            "type": "contour"
           }
          ],
          "contourcarpet": [
           {
            "colorbar": {
             "outlinewidth": 0,
             "ticks": ""
            },
            "type": "contourcarpet"
           }
          ],
          "heatmap": [
           {
            "colorbar": {
             "outlinewidth": 0,
             "ticks": ""
            },
            "colorscale": [
             [
              0,
              "#0d0887"
             ],
             [
              0.1111111111111111,
              "#46039f"
             ],
             [
              0.2222222222222222,
              "#7201a8"
             ],
             [
              0.3333333333333333,
              "#9c179e"
             ],
             [
              0.4444444444444444,
              "#bd3786"
             ],
             [
              0.5555555555555556,
              "#d8576b"
             ],
             [
              0.6666666666666666,
              "#ed7953"
             ],
             [
              0.7777777777777778,
              "#fb9f3a"
             ],
             [
              0.8888888888888888,
              "#fdca26"
             ],
             [
              1,
              "#f0f921"
             ]
            ],
            "type": "heatmap"
           }
          ],
          "heatmapgl": [
           {
            "colorbar": {
             "outlinewidth": 0,
             "ticks": ""
            },
            "colorscale": [
             [
              0,
              "#0d0887"
             ],
             [
              0.1111111111111111,
              "#46039f"
             ],
             [
              0.2222222222222222,
              "#7201a8"
             ],
             [
              0.3333333333333333,
              "#9c179e"
             ],
             [
              0.4444444444444444,
              "#bd3786"
             ],
             [
              0.5555555555555556,
              "#d8576b"
             ],
             [
              0.6666666666666666,
              "#ed7953"
             ],
             [
              0.7777777777777778,
              "#fb9f3a"
             ],
             [
              0.8888888888888888,
              "#fdca26"
             ],
             [
              1,
              "#f0f921"
             ]
            ],
            "type": "heatmapgl"
           }
          ],
          "histogram": [
           {
            "marker": {
             "pattern": {
              "fillmode": "overlay",
              "size": 10,
              "solidity": 0.2
             }
            },
            "type": "histogram"
           }
          ],
          "histogram2d": [
           {
            "colorbar": {
             "outlinewidth": 0,
             "ticks": ""
            },
            "colorscale": [
             [
              0,
              "#0d0887"
             ],
             [
              0.1111111111111111,
              "#46039f"
             ],
             [
              0.2222222222222222,
              "#7201a8"
             ],
             [
              0.3333333333333333,
              "#9c179e"
             ],
             [
              0.4444444444444444,
              "#bd3786"
             ],
             [
              0.5555555555555556,
              "#d8576b"
             ],
             [
              0.6666666666666666,
              "#ed7953"
             ],
             [
              0.7777777777777778,
              "#fb9f3a"
             ],
             [
              0.8888888888888888,
              "#fdca26"
             ],
             [
              1,
              "#f0f921"
             ]
            ],
            "type": "histogram2d"
           }
          ],
          "histogram2dcontour": [
           {
            "colorbar": {
             "outlinewidth": 0,
             "ticks": ""
            },
            "colorscale": [
             [
              0,
              "#0d0887"
             ],
             [
              0.1111111111111111,
              "#46039f"
             ],
             [
              0.2222222222222222,
              "#7201a8"
             ],
             [
              0.3333333333333333,
              "#9c179e"
             ],
             [
              0.4444444444444444,
              "#bd3786"
             ],
             [
              0.5555555555555556,
              "#d8576b"
             ],
             [
              0.6666666666666666,
              "#ed7953"
             ],
             [
              0.7777777777777778,
              "#fb9f3a"
             ],
             [
              0.8888888888888888,
              "#fdca26"
             ],
             [
              1,
              "#f0f921"
             ]
            ],
            "type": "histogram2dcontour"
           }
          ],
          "mesh3d": [
           {
            "colorbar": {
             "outlinewidth": 0,
             "ticks": ""
            },
            "type": "mesh3d"
           }
          ],
          "parcoords": [
           {
            "line": {
             "colorbar": {
              "outlinewidth": 0,
              "ticks": ""
             }
            },
            "type": "parcoords"
           }
          ],
          "pie": [
           {
            "automargin": true,
            "type": "pie"
           }
          ],
          "scatter": [
           {
            "fillpattern": {
             "fillmode": "overlay",
             "size": 10,
             "solidity": 0.2
            },
            "type": "scatter"
           }
          ],
          "scatter3d": [
           {
            "line": {
             "colorbar": {
              "outlinewidth": 0,
              "ticks": ""
             }
            },
            "marker": {
             "colorbar": {
              "outlinewidth": 0,
              "ticks": ""
             }
            },
            "type": "scatter3d"
           }
          ],
          "scattercarpet": [
           {
            "marker": {
             "colorbar": {
              "outlinewidth": 0,
              "ticks": ""
             }
            },
            "type": "scattercarpet"
           }
          ],
          "scattergeo": [
           {
            "marker": {
             "colorbar": {
              "outlinewidth": 0,
              "ticks": ""
             }
            },
            "type": "scattergeo"
           }
          ],
          "scattergl": [
           {
            "marker": {
             "colorbar": {
              "outlinewidth": 0,
              "ticks": ""
             }
            },
            "type": "scattergl"
           }
          ],
          "scattermapbox": [
           {
            "marker": {
             "colorbar": {
              "outlinewidth": 0,
              "ticks": ""
             }
            },
            "type": "scattermapbox"
           }
          ],
          "scatterpolar": [
           {
            "marker": {
             "colorbar": {
              "outlinewidth": 0,
              "ticks": ""
             }
            },
            "type": "scatterpolar"
           }
          ],
          "scatterpolargl": [
           {
            "marker": {
             "colorbar": {
              "outlinewidth": 0,
              "ticks": ""
             }
            },
            "type": "scatterpolargl"
           }
          ],
          "scatterternary": [
           {
            "marker": {
             "colorbar": {
              "outlinewidth": 0,
              "ticks": ""
             }
            },
            "type": "scatterternary"
           }
          ],
          "surface": [
           {
            "colorbar": {
             "outlinewidth": 0,
             "ticks": ""
            },
            "colorscale": [
             [
              0,
              "#0d0887"
             ],
             [
              0.1111111111111111,
              "#46039f"
             ],
             [
              0.2222222222222222,
              "#7201a8"
             ],
             [
              0.3333333333333333,
              "#9c179e"
             ],
             [
              0.4444444444444444,
              "#bd3786"
             ],
             [
              0.5555555555555556,
              "#d8576b"
             ],
             [
              0.6666666666666666,
              "#ed7953"
             ],
             [
              0.7777777777777778,
              "#fb9f3a"
             ],
             [
              0.8888888888888888,
              "#fdca26"
             ],
             [
              1,
              "#f0f921"
             ]
            ],
            "type": "surface"
           }
          ],
          "table": [
           {
            "cells": {
             "fill": {
              "color": "#EBF0F8"
             },
             "line": {
              "color": "white"
             }
            },
            "header": {
             "fill": {
              "color": "#C8D4E3"
             },
             "line": {
              "color": "white"
             }
            },
            "type": "table"
           }
          ]
         },
         "layout": {
          "annotationdefaults": {
           "arrowcolor": "#2a3f5f",
           "arrowhead": 0,
           "arrowwidth": 1
          },
          "autotypenumbers": "strict",
          "coloraxis": {
           "colorbar": {
            "outlinewidth": 0,
            "ticks": ""
           }
          },
          "colorscale": {
           "diverging": [
            [
             0,
             "#8e0152"
            ],
            [
             0.1,
             "#c51b7d"
            ],
            [
             0.2,
             "#de77ae"
            ],
            [
             0.3,
             "#f1b6da"
            ],
            [
             0.4,
             "#fde0ef"
            ],
            [
             0.5,
             "#f7f7f7"
            ],
            [
             0.6,
             "#e6f5d0"
            ],
            [
             0.7,
             "#b8e186"
            ],
            [
             0.8,
             "#7fbc41"
            ],
            [
             0.9,
             "#4d9221"
            ],
            [
             1,
             "#276419"
            ]
           ],
           "sequential": [
            [
             0,
             "#0d0887"
            ],
            [
             0.1111111111111111,
             "#46039f"
            ],
            [
             0.2222222222222222,
             "#7201a8"
            ],
            [
             0.3333333333333333,
             "#9c179e"
            ],
            [
             0.4444444444444444,
             "#bd3786"
            ],
            [
             0.5555555555555556,
             "#d8576b"
            ],
            [
             0.6666666666666666,
             "#ed7953"
            ],
            [
             0.7777777777777778,
             "#fb9f3a"
            ],
            [
             0.8888888888888888,
             "#fdca26"
            ],
            [
             1,
             "#f0f921"
            ]
           ],
           "sequentialminus": [
            [
             0,
             "#0d0887"
            ],
            [
             0.1111111111111111,
             "#46039f"
            ],
            [
             0.2222222222222222,
             "#7201a8"
            ],
            [
             0.3333333333333333,
             "#9c179e"
            ],
            [
             0.4444444444444444,
             "#bd3786"
            ],
            [
             0.5555555555555556,
             "#d8576b"
            ],
            [
             0.6666666666666666,
             "#ed7953"
            ],
            [
             0.7777777777777778,
             "#fb9f3a"
            ],
            [
             0.8888888888888888,
             "#fdca26"
            ],
            [
             1,
             "#f0f921"
            ]
           ]
          },
          "colorway": [
           "#636efa",
           "#EF553B",
           "#00cc96",
           "#ab63fa",
           "#FFA15A",
           "#19d3f3",
           "#FF6692",
           "#B6E880",
           "#FF97FF",
           "#FECB52"
          ],
          "font": {
           "color": "#2a3f5f"
          },
          "geo": {
           "bgcolor": "white",
           "lakecolor": "white",
           "landcolor": "#E5ECF6",
           "showlakes": true,
           "showland": true,
           "subunitcolor": "white"
          },
          "hoverlabel": {
           "align": "left"
          },
          "hovermode": "closest",
          "mapbox": {
           "style": "light"
          },
          "paper_bgcolor": "white",
          "plot_bgcolor": "#E5ECF6",
          "polar": {
           "angularaxis": {
            "gridcolor": "white",
            "linecolor": "white",
            "ticks": ""
           },
           "bgcolor": "#E5ECF6",
           "radialaxis": {
            "gridcolor": "white",
            "linecolor": "white",
            "ticks": ""
           }
          },
          "scene": {
           "xaxis": {
            "backgroundcolor": "#E5ECF6",
            "gridcolor": "white",
            "gridwidth": 2,
            "linecolor": "white",
            "showbackground": true,
            "ticks": "",
            "zerolinecolor": "white"
           },
           "yaxis": {
            "backgroundcolor": "#E5ECF6",
            "gridcolor": "white",
            "gridwidth": 2,
            "linecolor": "white",
            "showbackground": true,
            "ticks": "",
            "zerolinecolor": "white"
           },
           "zaxis": {
            "backgroundcolor": "#E5ECF6",
            "gridcolor": "white",
            "gridwidth": 2,
            "linecolor": "white",
            "showbackground": true,
            "ticks": "",
            "zerolinecolor": "white"
           }
          },
          "shapedefaults": {
           "line": {
            "color": "#2a3f5f"
           }
          },
          "ternary": {
           "aaxis": {
            "gridcolor": "white",
            "linecolor": "white",
            "ticks": ""
           },
           "baxis": {
            "gridcolor": "white",
            "linecolor": "white",
            "ticks": ""
           },
           "bgcolor": "#E5ECF6",
           "caxis": {
            "gridcolor": "white",
            "linecolor": "white",
            "ticks": ""
           }
          },
          "title": {
           "x": 0.05
          },
          "xaxis": {
           "automargin": true,
           "gridcolor": "white",
           "linecolor": "white",
           "ticks": "",
           "title": {
            "standoff": 15
           },
           "zerolinecolor": "white",
           "zerolinewidth": 2
          },
          "yaxis": {
           "automargin": true,
           "gridcolor": "white",
           "linecolor": "white",
           "ticks": "",
           "title": {
            "standoff": 15
           },
           "zerolinecolor": "white",
           "zerolinewidth": 2
          }
         }
        },
        "width": 1000
       }
      },
      "text/html": [
       "<div>                            <div id=\"890cc000-7894-4c30-9634-9c940ee7c511\" class=\"plotly-graph-div\" style=\"height:800px; width:1000px;\"></div>            <script type=\"text/javascript\">                require([\"plotly\"], function(Plotly) {                    window.PLOTLYENV=window.PLOTLYENV || {};                                    if (document.getElementById(\"890cc000-7894-4c30-9634-9c940ee7c511\")) {                    Plotly.newPlot(                        \"890cc000-7894-4c30-9634-9c940ee7c511\",                        [{\"domain\":{\"x\":[0.0,1.0],\"y\":[0.0,1.0]},\"hovertemplate\":\"label=%{label}<br>value=%{value}<extra></extra>\",\"labels\":[\"SP\",\"RJ\",\"CE\",\"MG\",\"BA\",\"PE\",\"PR\",\"PA\",\"RS\",\"GO\",\"ES\",\"DF\",\"SC\",\"MA\",\"AM\",\"PB\",\"AL\",\"MT\",\"RN\",\"SE\",\"MS\",\"PI\",\"RO\",\"AP\",\"AC\",\"RR\",\"TO\"],\"legendgroup\":\"\",\"name\":\"\",\"showlegend\":true,\"values\":[7608909,4145484,1840282,1607090,1225750,1198557,1046258,1029211,946479,935456,719106,540671,529451,507554,499497,468824,409503,403138,353739,308070,232632,228579,196498,140834,128272,114905,113938],\"type\":\"pie\"}],                        {\"template\":{\"data\":{\"histogram2dcontour\":[{\"type\":\"histogram2dcontour\",\"colorbar\":{\"outlinewidth\":0,\"ticks\":\"\"},\"colorscale\":[[0.0,\"#0d0887\"],[0.1111111111111111,\"#46039f\"],[0.2222222222222222,\"#7201a8\"],[0.3333333333333333,\"#9c179e\"],[0.4444444444444444,\"#bd3786\"],[0.5555555555555556,\"#d8576b\"],[0.6666666666666666,\"#ed7953\"],[0.7777777777777778,\"#fb9f3a\"],[0.8888888888888888,\"#fdca26\"],[1.0,\"#f0f921\"]]}],\"choropleth\":[{\"type\":\"choropleth\",\"colorbar\":{\"outlinewidth\":0,\"ticks\":\"\"}}],\"histogram2d\":[{\"type\":\"histogram2d\",\"colorbar\":{\"outlinewidth\":0,\"ticks\":\"\"},\"colorscale\":[[0.0,\"#0d0887\"],[0.1111111111111111,\"#46039f\"],[0.2222222222222222,\"#7201a8\"],[0.3333333333333333,\"#9c179e\"],[0.4444444444444444,\"#bd3786\"],[0.5555555555555556,\"#d8576b\"],[0.6666666666666666,\"#ed7953\"],[0.7777777777777778,\"#fb9f3a\"],[0.8888888888888888,\"#fdca26\"],[1.0,\"#f0f921\"]]}],\"heatmap\":[{\"type\":\"heatmap\",\"colorbar\":{\"outlinewidth\":0,\"ticks\":\"\"},\"colorscale\":[[0.0,\"#0d0887\"],[0.1111111111111111,\"#46039f\"],[0.2222222222222222,\"#7201a8\"],[0.3333333333333333,\"#9c179e\"],[0.4444444444444444,\"#bd3786\"],[0.5555555555555556,\"#d8576b\"],[0.6666666666666666,\"#ed7953\"],[0.7777777777777778,\"#fb9f3a\"],[0.8888888888888888,\"#fdca26\"],[1.0,\"#f0f921\"]]}],\"heatmapgl\":[{\"type\":\"heatmapgl\",\"colorbar\":{\"outlinewidth\":0,\"ticks\":\"\"},\"colorscale\":[[0.0,\"#0d0887\"],[0.1111111111111111,\"#46039f\"],[0.2222222222222222,\"#7201a8\"],[0.3333333333333333,\"#9c179e\"],[0.4444444444444444,\"#bd3786\"],[0.5555555555555556,\"#d8576b\"],[0.6666666666666666,\"#ed7953\"],[0.7777777777777778,\"#fb9f3a\"],[0.8888888888888888,\"#fdca26\"],[1.0,\"#f0f921\"]]}],\"contourcarpet\":[{\"type\":\"contourcarpet\",\"colorbar\":{\"outlinewidth\":0,\"ticks\":\"\"}}],\"contour\":[{\"type\":\"contour\",\"colorbar\":{\"outlinewidth\":0,\"ticks\":\"\"},\"colorscale\":[[0.0,\"#0d0887\"],[0.1111111111111111,\"#46039f\"],[0.2222222222222222,\"#7201a8\"],[0.3333333333333333,\"#9c179e\"],[0.4444444444444444,\"#bd3786\"],[0.5555555555555556,\"#d8576b\"],[0.6666666666666666,\"#ed7953\"],[0.7777777777777778,\"#fb9f3a\"],[0.8888888888888888,\"#fdca26\"],[1.0,\"#f0f921\"]]}],\"surface\":[{\"type\":\"surface\",\"colorbar\":{\"outlinewidth\":0,\"ticks\":\"\"},\"colorscale\":[[0.0,\"#0d0887\"],[0.1111111111111111,\"#46039f\"],[0.2222222222222222,\"#7201a8\"],[0.3333333333333333,\"#9c179e\"],[0.4444444444444444,\"#bd3786\"],[0.5555555555555556,\"#d8576b\"],[0.6666666666666666,\"#ed7953\"],[0.7777777777777778,\"#fb9f3a\"],[0.8888888888888888,\"#fdca26\"],[1.0,\"#f0f921\"]]}],\"mesh3d\":[{\"type\":\"mesh3d\",\"colorbar\":{\"outlinewidth\":0,\"ticks\":\"\"}}],\"scatter\":[{\"fillpattern\":{\"fillmode\":\"overlay\",\"size\":10,\"solidity\":0.2},\"type\":\"scatter\"}],\"parcoords\":[{\"type\":\"parcoords\",\"line\":{\"colorbar\":{\"outlinewidth\":0,\"ticks\":\"\"}}}],\"scatterpolargl\":[{\"type\":\"scatterpolargl\",\"marker\":{\"colorbar\":{\"outlinewidth\":0,\"ticks\":\"\"}}}],\"bar\":[{\"error_x\":{\"color\":\"#2a3f5f\"},\"error_y\":{\"color\":\"#2a3f5f\"},\"marker\":{\"line\":{\"color\":\"#E5ECF6\",\"width\":0.5},\"pattern\":{\"fillmode\":\"overlay\",\"size\":10,\"solidity\":0.2}},\"type\":\"bar\"}],\"scattergeo\":[{\"type\":\"scattergeo\",\"marker\":{\"colorbar\":{\"outlinewidth\":0,\"ticks\":\"\"}}}],\"scatterpolar\":[{\"type\":\"scatterpolar\",\"marker\":{\"colorbar\":{\"outlinewidth\":0,\"ticks\":\"\"}}}],\"histogram\":[{\"marker\":{\"pattern\":{\"fillmode\":\"overlay\",\"size\":10,\"solidity\":0.2}},\"type\":\"histogram\"}],\"scattergl\":[{\"type\":\"scattergl\",\"marker\":{\"colorbar\":{\"outlinewidth\":0,\"ticks\":\"\"}}}],\"scatter3d\":[{\"type\":\"scatter3d\",\"line\":{\"colorbar\":{\"outlinewidth\":0,\"ticks\":\"\"}},\"marker\":{\"colorbar\":{\"outlinewidth\":0,\"ticks\":\"\"}}}],\"scattermapbox\":[{\"type\":\"scattermapbox\",\"marker\":{\"colorbar\":{\"outlinewidth\":0,\"ticks\":\"\"}}}],\"scatterternary\":[{\"type\":\"scatterternary\",\"marker\":{\"colorbar\":{\"outlinewidth\":0,\"ticks\":\"\"}}}],\"scattercarpet\":[{\"type\":\"scattercarpet\",\"marker\":{\"colorbar\":{\"outlinewidth\":0,\"ticks\":\"\"}}}],\"carpet\":[{\"aaxis\":{\"endlinecolor\":\"#2a3f5f\",\"gridcolor\":\"white\",\"linecolor\":\"white\",\"minorgridcolor\":\"white\",\"startlinecolor\":\"#2a3f5f\"},\"baxis\":{\"endlinecolor\":\"#2a3f5f\",\"gridcolor\":\"white\",\"linecolor\":\"white\",\"minorgridcolor\":\"white\",\"startlinecolor\":\"#2a3f5f\"},\"type\":\"carpet\"}],\"table\":[{\"cells\":{\"fill\":{\"color\":\"#EBF0F8\"},\"line\":{\"color\":\"white\"}},\"header\":{\"fill\":{\"color\":\"#C8D4E3\"},\"line\":{\"color\":\"white\"}},\"type\":\"table\"}],\"barpolar\":[{\"marker\":{\"line\":{\"color\":\"#E5ECF6\",\"width\":0.5},\"pattern\":{\"fillmode\":\"overlay\",\"size\":10,\"solidity\":0.2}},\"type\":\"barpolar\"}],\"pie\":[{\"automargin\":true,\"type\":\"pie\"}]},\"layout\":{\"autotypenumbers\":\"strict\",\"colorway\":[\"#636efa\",\"#EF553B\",\"#00cc96\",\"#ab63fa\",\"#FFA15A\",\"#19d3f3\",\"#FF6692\",\"#B6E880\",\"#FF97FF\",\"#FECB52\"],\"font\":{\"color\":\"#2a3f5f\"},\"hovermode\":\"closest\",\"hoverlabel\":{\"align\":\"left\"},\"paper_bgcolor\":\"white\",\"plot_bgcolor\":\"#E5ECF6\",\"polar\":{\"bgcolor\":\"#E5ECF6\",\"angularaxis\":{\"gridcolor\":\"white\",\"linecolor\":\"white\",\"ticks\":\"\"},\"radialaxis\":{\"gridcolor\":\"white\",\"linecolor\":\"white\",\"ticks\":\"\"}},\"ternary\":{\"bgcolor\":\"#E5ECF6\",\"aaxis\":{\"gridcolor\":\"white\",\"linecolor\":\"white\",\"ticks\":\"\"},\"baxis\":{\"gridcolor\":\"white\",\"linecolor\":\"white\",\"ticks\":\"\"},\"caxis\":{\"gridcolor\":\"white\",\"linecolor\":\"white\",\"ticks\":\"\"}},\"coloraxis\":{\"colorbar\":{\"outlinewidth\":0,\"ticks\":\"\"}},\"colorscale\":{\"sequential\":[[0.0,\"#0d0887\"],[0.1111111111111111,\"#46039f\"],[0.2222222222222222,\"#7201a8\"],[0.3333333333333333,\"#9c179e\"],[0.4444444444444444,\"#bd3786\"],[0.5555555555555556,\"#d8576b\"],[0.6666666666666666,\"#ed7953\"],[0.7777777777777778,\"#fb9f3a\"],[0.8888888888888888,\"#fdca26\"],[1.0,\"#f0f921\"]],\"sequentialminus\":[[0.0,\"#0d0887\"],[0.1111111111111111,\"#46039f\"],[0.2222222222222222,\"#7201a8\"],[0.3333333333333333,\"#9c179e\"],[0.4444444444444444,\"#bd3786\"],[0.5555555555555556,\"#d8576b\"],[0.6666666666666666,\"#ed7953\"],[0.7777777777777778,\"#fb9f3a\"],[0.8888888888888888,\"#fdca26\"],[1.0,\"#f0f921\"]],\"diverging\":[[0,\"#8e0152\"],[0.1,\"#c51b7d\"],[0.2,\"#de77ae\"],[0.3,\"#f1b6da\"],[0.4,\"#fde0ef\"],[0.5,\"#f7f7f7\"],[0.6,\"#e6f5d0\"],[0.7,\"#b8e186\"],[0.8,\"#7fbc41\"],[0.9,\"#4d9221\"],[1,\"#276419\"]]},\"xaxis\":{\"gridcolor\":\"white\",\"linecolor\":\"white\",\"ticks\":\"\",\"title\":{\"standoff\":15},\"zerolinecolor\":\"white\",\"automargin\":true,\"zerolinewidth\":2},\"yaxis\":{\"gridcolor\":\"white\",\"linecolor\":\"white\",\"ticks\":\"\",\"title\":{\"standoff\":15},\"zerolinecolor\":\"white\",\"automargin\":true,\"zerolinewidth\":2},\"scene\":{\"xaxis\":{\"backgroundcolor\":\"#E5ECF6\",\"gridcolor\":\"white\",\"linecolor\":\"white\",\"showbackground\":true,\"ticks\":\"\",\"zerolinecolor\":\"white\",\"gridwidth\":2},\"yaxis\":{\"backgroundcolor\":\"#E5ECF6\",\"gridcolor\":\"white\",\"linecolor\":\"white\",\"showbackground\":true,\"ticks\":\"\",\"zerolinecolor\":\"white\",\"gridwidth\":2},\"zaxis\":{\"backgroundcolor\":\"#E5ECF6\",\"gridcolor\":\"white\",\"linecolor\":\"white\",\"showbackground\":true,\"ticks\":\"\",\"zerolinecolor\":\"white\",\"gridwidth\":2}},\"shapedefaults\":{\"line\":{\"color\":\"#2a3f5f\"}},\"annotationdefaults\":{\"arrowcolor\":\"#2a3f5f\",\"arrowhead\":0,\"arrowwidth\":1},\"geo\":{\"bgcolor\":\"white\",\"landcolor\":\"#E5ECF6\",\"subunitcolor\":\"white\",\"showland\":true,\"showlakes\":true,\"lakecolor\":\"white\"},\"title\":{\"x\":0.05},\"mapbox\":{\"style\":\"light\"}}},\"legend\":{\"tracegroupgap\":0},\"margin\":{\"t\":60},\"height\":800,\"width\":1000},                        {\"responsive\": true}                    ).then(function(){\n",
       "                            \n",
       "var gd = document.getElementById('890cc000-7894-4c30-9634-9c940ee7c511');\n",
       "var x = new MutationObserver(function (mutations, observer) {{\n",
       "        var display = window.getComputedStyle(gd).display;\n",
       "        if (!display || display === 'none') {{\n",
       "            console.log([gd, 'removed!']);\n",
       "            Plotly.purge(gd);\n",
       "            observer.disconnect();\n",
       "        }}\n",
       "}});\n",
       "\n",
       "// Listen for the removal of the full notebook cells\n",
       "var notebookContainer = gd.closest('#notebook-container');\n",
       "if (notebookContainer) {{\n",
       "    x.observe(notebookContainer, {childList: true});\n",
       "}}\n",
       "\n",
       "// Listen for the clearing of the current output cell\n",
       "var outputEl = gd.closest('.output');\n",
       "if (outputEl) {{\n",
       "    x.observe(outputEl, {childList: true});\n",
       "}}\n",
       "\n",
       "                        })                };                });            </script>        </div>"
      ]
     },
     "metadata": {},
     "output_type": "display_data"
    }
   ],
   "source": [
    "fig = px.pie(names = obitos_pizza['UF'], values = obitos_pizza['Mortes por Covid-19'], width = 1000, height = 800)\n",
    "fig.show()"
   ]
  },
  {
   "cell_type": "markdown",
   "id": "df1845f9",
   "metadata": {},
   "source": [
    "## Conclusão\n",
    "Bom, foram poucos gráficos, mas tenho certeza que com a visualização deles ficou muito mais fácil de você entender e perceber como se deu as mortes por Covid-19 no Brasil. Qual estado teve mais mortes, qual teve menos, qual data ou semana epdemiológica teve mais mortes, etc. Enfim, com a visualização gráfica conseguimos ter uma noção maior e fazer diversas inferências, além de criar hipóteses sobre os dados. Por isso, as bibliotecas que nos auxiliam com a visualização de dados são tão importantes. A nossa interpretação somente com DataFrames acaba sendo muito limitada, pois ele não é tão intuitivo quanto os gráficos e figuras, conseguimos compreender os dados de maneira muito mais rápida com imagens."
   ]
  }
 ],
 "metadata": {
  "kernelspec": {
   "display_name": "Python 3 (ipykernel)",
   "language": "python",
   "name": "python3"
  },
  "language_info": {
   "codemirror_mode": {
    "name": "ipython",
    "version": 3
   },
   "file_extension": ".py",
   "mimetype": "text/x-python",
   "name": "python",
   "nbconvert_exporter": "python",
   "pygments_lexer": "ipython3",
   "version": "3.9.7"
  }
 },
 "nbformat": 4,
 "nbformat_minor": 5
}
